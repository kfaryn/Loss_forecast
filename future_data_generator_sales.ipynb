{
 "cells": [
  {
   "cell_type": "markdown",
   "id": "99d49aa3",
   "metadata": {},
   "source": [
    "`Biblioteki`"
   ]
  },
  {
   "cell_type": "code",
   "execution_count": 1,
   "id": "d1057389",
   "metadata": {},
   "outputs": [],
   "source": [
    "import pandas as pd\n",
    "import os\n",
    "\n",
    "import itertools as it\n",
    "from itertools import repeat\n",
    "\n",
    "# sktime\n",
    "import sktime\n",
    "from sktime.forecasting.arima import AutoARIMA\n",
    "from sktime.forecasting.base import ForecastingHorizon\n",
    "from sktime.forecasting.compose import make_reduction\n",
    "from sktime.forecasting.compose import TransformedTargetForecaster, EnsembleForecaster\n",
    "from sktime.forecasting.fbprophet import Prophet\n",
    "from sktime.forecasting.model_selection import (ForecastingRandomizedSearchCV, ForecastingGridSearchCV, SingleWindowSplitter)\n",
    "from sktime.forecasting.model_selection import temporal_train_test_split\n",
    "from sktime.forecasting.model_selection._split import temporal_train_test_split\n",
    "from sktime.forecasting.trend import PolynomialTrendForecaster, STLForecaster\n",
    "\n",
    "# plotly\n",
    "import plotly.express as px\n",
    "import plotly.graph_objects as go"
   ]
  },
  {
   "cell_type": "markdown",
   "id": "3cafbf24",
   "metadata": {},
   "source": [
    "`Funkcje`"
   ]
  },
  {
   "cell_type": "code",
   "execution_count": 2,
   "id": "4b67bf30",
   "metadata": {},
   "outputs": [],
   "source": [
    "def wykres(y_train ,y_test = None, y_pred = None, y_pred_intervals = None):\n",
    "    # Wyplotowanie wyników\n",
    "    fig = px.line(liquidation_store_y.VALUE)\n",
    "    fig = go.Figure()\n",
    "    fig.add_trace(\n",
    "        go.Scatter(\n",
    "            x=y_train.index,\n",
    "            y=y_train['VALUE'],\n",
    "            mode='lines+markers',\n",
    "            name='TRAIN',\n",
    "            line=dict(color='rgba(52,52,215,0.75)')\n",
    "\n",
    "        )\n",
    "    )\n",
    "    if y_test is not None:\n",
    "        fig.add_trace(\n",
    "            go.Scatter(\n",
    "                x=y_test.index,\n",
    "                y=y_test['VALUE'],\n",
    "                mode='lines+markers',\n",
    "                name='TEST',\n",
    "                line=dict(color='rgba(52,215,52,0.75)')\n",
    "            )\n",
    "        )\n",
    "    if y_pred is not None:\n",
    "        fig.add_trace(\n",
    "            go.Scatter(\n",
    "                x=y_pred.index,\n",
    "                y=y_pred['VALUE'],\n",
    "                name='PRED',\n",
    "                mode='lines+markers',\n",
    "                line=dict(color='rgba(235,52,52,0.75)')\n",
    "            )\n",
    "        )\n",
    "    \n",
    "    if y_pred_intervals is not None:\n",
    "        fig.add_trace(\n",
    "            go.Scatter(\n",
    "                x=list(it.chain.from_iterable([y_pred_intervals.index, y_pred_intervals.index[::-1]])), # x, then x reversed\n",
    "                y=list(it.chain.from_iterable([y_pred_intervals['upper'], y_pred_intervals['lower'][::-1]])), # upper, then lower reversed\n",
    "                fill='toself',\n",
    "                fillcolor='rgba(68, 68, 68, 0.3)',\n",
    "                line=dict(color='rgba(255,255,255,0)'),\n",
    "                name='CONFINT'\n",
    "            )\n",
    "    )\n",
    "    return fig    \n",
    "    #fig.show()\n",
    "\n",
    "def compute_metrics(y_true, y_pred):\n",
    "    mape = mean_absolute_percentage_error(y_true, y_pred, symmetric=False)\n",
    "    mspe = mean_squared_percentage_error(y_true, y_pred, symmetric=False)\n",
    "    _rmse = MeanSquaredError(square_root=True)\n",
    "    rmse = _rmse(y_true, y_pred)\n",
    "    ramka = pd.DataFrame([[mape],[mspe],[rmse]], index= ['MAPE','MSPE','RMSE'])\n",
    "    ramka.columns = ['wynik']\n",
    "    return ramka\n"
   ]
  },
  {
   "cell_type": "markdown",
   "id": "cad18cdf",
   "metadata": {},
   "source": [
    "`Funkcje do konwertowania`"
   ]
  },
  {
   "cell_type": "code",
   "execution_count": 31,
   "id": "fe725be2",
   "metadata": {},
   "outputs": [],
   "source": [
    "def convert_and_preprocess_daily_to_monthly(pred):\n",
    "    try:\n",
    "        selected_index = pred.groupby(pd.Grouper(freq='M')).count().query(\"VALUE > 25\").index\n",
    "    except:\n",
    "        selected_index = pred.groupby(pd.Grouper(freq='M')).count().query(\"upper > 25\").index\n",
    "    return pred.groupby(pd.Grouper(freq='M')).sum().loc[selected_index,:]\n",
    "\n",
    "\n",
    "def convert_weekly_to_monthly(pred):\n",
    "    _pred = convert_and_preprocess_daily_to_monthly(convert_weekly_to_daily(pred))\n",
    "    return _pred\n",
    "\n",
    "def convert_weekly_to_daily(preds):\n",
    "    _preds = preds.copy()\n",
    "    _preds.index = _preds.index.shift(-6, freq='D')\n",
    "    _preds = _preds.resample('D').ffill()\n",
    "    _preds['TOTAL_SALES'] = _preds['TOTAL_SALES'] / 7\n",
    "    _preds['upper'] = _preds['upper'] / 7\n",
    "    _preds['lower'] = _preds['lower'] / 7\n",
    "    _preds = pd.concat([_preds,pd.DataFrame(index = _preds.index[-6:].shift(6))]).ffill()\n",
    "    return _preds"
   ]
  },
  {
   "cell_type": "markdown",
   "id": "1ac3ab9f",
   "metadata": {},
   "source": [
    "`Kalendarz`"
   ]
  },
  {
   "cell_type": "code",
   "execution_count": null,
   "id": "41d0b2f6",
   "metadata": {},
   "outputs": [],
   "source": [
    "kalendarz = pd.read_excel('', sheet_name= '')\n",
    "kalendarz.tail(5)"
   ]
  },
  {
   "cell_type": "markdown",
   "id": "58be79e4",
   "metadata": {},
   "source": [
    "`Dotyczczasowa inflacja`"
   ]
  },
  {
   "cell_type": "code",
   "execution_count": 4,
   "id": "88f27078",
   "metadata": {},
   "outputs": [
    {
     "data": {
      "text/html": [
       "<div>\n",
       "<style scoped>\n",
       "    .dataframe tbody tr th:only-of-type {\n",
       "        vertical-align: middle;\n",
       "    }\n",
       "\n",
       "    .dataframe tbody tr th {\n",
       "        vertical-align: top;\n",
       "    }\n",
       "\n",
       "    .dataframe thead th {\n",
       "        text-align: right;\n",
       "    }\n",
       "</style>\n",
       "<table border=\"1\" class=\"dataframe\">\n",
       "  <thead>\n",
       "    <tr style=\"text-align: right;\">\n",
       "      <th></th>\n",
       "      <th>Nazwa zmiennej</th>\n",
       "      <th>Jednostka terytorialna</th>\n",
       "      <th>Sposób prezentacji</th>\n",
       "      <th>Rok</th>\n",
       "      <th>Miesiąc</th>\n",
       "      <th>Wartość</th>\n",
       "      <th>Wskaźnik_inflacji</th>\n",
       "      <th>Wskaźnik_inflacji_lag</th>\n",
       "      <th>CALMONTH</th>\n",
       "    </tr>\n",
       "  </thead>\n",
       "  <tbody>\n",
       "    <tr>\n",
       "      <th>24</th>\n",
       "      <td>Wskaźnik cen towarów i usług konsumpcyjnych</td>\n",
       "      <td>Polska</td>\n",
       "      <td>Analogiczny miesiąc poprzedniego roku = 100</td>\n",
       "      <td>2022</td>\n",
       "      <td>01</td>\n",
       "      <td>109.4</td>\n",
       "      <td>9.4</td>\n",
       "      <td>0.1</td>\n",
       "      <td>202201</td>\n",
       "    </tr>\n",
       "    <tr>\n",
       "      <th>25</th>\n",
       "      <td>Wskaźnik cen towarów i usług konsumpcyjnych</td>\n",
       "      <td>Polska</td>\n",
       "      <td>Analogiczny miesiąc poprzedniego roku = 100</td>\n",
       "      <td>2022</td>\n",
       "      <td>02</td>\n",
       "      <td>108.5</td>\n",
       "      <td>8.5</td>\n",
       "      <td>9.4</td>\n",
       "      <td>202202</td>\n",
       "    </tr>\n",
       "    <tr>\n",
       "      <th>26</th>\n",
       "      <td>Wskaźnik cen towarów i usług konsumpcyjnych</td>\n",
       "      <td>Polska</td>\n",
       "      <td>Analogiczny miesiąc poprzedniego roku = 100</td>\n",
       "      <td>2022</td>\n",
       "      <td>03</td>\n",
       "      <td>111.0</td>\n",
       "      <td>11.0</td>\n",
       "      <td>8.5</td>\n",
       "      <td>202203</td>\n",
       "    </tr>\n",
       "    <tr>\n",
       "      <th>27</th>\n",
       "      <td>Wskaźnik cen towarów i usług konsumpcyjnych</td>\n",
       "      <td>Polska</td>\n",
       "      <td>Analogiczny miesiąc poprzedniego roku = 100</td>\n",
       "      <td>2022</td>\n",
       "      <td>04</td>\n",
       "      <td>112.4</td>\n",
       "      <td>12.4</td>\n",
       "      <td>11.0</td>\n",
       "      <td>202204</td>\n",
       "    </tr>\n",
       "    <tr>\n",
       "      <th>28</th>\n",
       "      <td>Wskaźnik cen towarów i usług konsumpcyjnych</td>\n",
       "      <td>Polska</td>\n",
       "      <td>Analogiczny miesiąc poprzedniego roku = 100</td>\n",
       "      <td>2022</td>\n",
       "      <td>05</td>\n",
       "      <td>113.9</td>\n",
       "      <td>13.9</td>\n",
       "      <td>12.4</td>\n",
       "      <td>202205</td>\n",
       "    </tr>\n",
       "  </tbody>\n",
       "</table>\n",
       "</div>"
      ],
      "text/plain": [
       "                                 Nazwa zmiennej Jednostka terytorialna  \\\n",
       "24  Wskaźnik cen towarów i usług konsumpcyjnych                 Polska   \n",
       "25  Wskaźnik cen towarów i usług konsumpcyjnych                 Polska   \n",
       "26  Wskaźnik cen towarów i usług konsumpcyjnych                 Polska   \n",
       "27  Wskaźnik cen towarów i usług konsumpcyjnych                 Polska   \n",
       "28  Wskaźnik cen towarów i usług konsumpcyjnych                 Polska   \n",
       "\n",
       "                             Sposób prezentacji   Rok Miesiąc  Wartość  \\\n",
       "24  Analogiczny miesiąc poprzedniego roku = 100  2022      01    109.4   \n",
       "25  Analogiczny miesiąc poprzedniego roku = 100  2022      02    108.5   \n",
       "26  Analogiczny miesiąc poprzedniego roku = 100  2022      03    111.0   \n",
       "27  Analogiczny miesiąc poprzedniego roku = 100  2022      04    112.4   \n",
       "28  Analogiczny miesiąc poprzedniego roku = 100  2022      05    113.9   \n",
       "\n",
       "    Wskaźnik_inflacji  Wskaźnik_inflacji_lag  CALMONTH  \n",
       "24                9.4                    0.1    202201  \n",
       "25                8.5                    9.4    202202  \n",
       "26               11.0                    8.5    202203  \n",
       "27               12.4                   11.0    202204  \n",
       "28               13.9                   12.4    202205  "
      ]
     },
     "execution_count": 4,
     "metadata": {},
     "output_type": "execute_result"
    }
   ],
   "source": [
    "inflacja = pd.read_csv(\"https://stat.gov.pl/download/gfx/portalinformacyjny/pl/defaultstronaopisowa/4741/1/1/miesieczne_wskazniki_cen_towarow_i_uslug_konsumpcyjnych_od_1982_roku.csv\", encoding = 'windows-1250', sep=';', decimal=',')\n",
    "\n",
    "# Usunięcie zbędnych kolumn\n",
    "inflacja = inflacja.iloc[:,:6]\n",
    "\n",
    "# Stworzenie kolumny z przyjaznym formatem i nowej z opóźnieniem zmiennej\n",
    "inflacja['Wskaźnik_inflacji'] = inflacja['Wartość'] - 100\n",
    "inflacja['Wskaźnik_inflacji_lag'] = inflacja['Wskaźnik_inflacji'].shift(1)\n",
    "\n",
    "# Obróbka ramki i kolumn\n",
    "inflacja = inflacja[(inflacja['Sposób prezentacji'] == 'Analogiczny miesiąc poprzedniego roku = 100') & (inflacja['Rok']>2015)]\n",
    "inflacja['Miesiąc'] = inflacja.Miesiąc.map(\"{:02}\".format)\n",
    "inflacja['CALMONTH'] = inflacja.Rok.astype(str) + inflacja['Miesiąc']\n",
    "inflacja['CALMONTH'] = inflacja['CALMONTH'].astype(int)\n",
    "\n",
    "inflacja.head(5)"
   ]
  },
  {
   "cell_type": "markdown",
   "id": "4ba65648",
   "metadata": {},
   "source": [
    "`Dane makroekonomiczne`"
   ]
  },
  {
   "cell_type": "code",
   "execution_count": 5,
   "id": "d1034937",
   "metadata": {},
   "outputs": [
    {
     "name": "stderr",
     "output_type": "stream",
     "text": [
      "C:\\ProgramData\\Anaconda3\\lib\\site-packages\\openpyxl\\worksheet\\header_footer.py:48: UserWarning: Cannot parse header or footer so it will be ignored\n",
      "  warn(\"\"\"Cannot parse header or footer so it will be ignored\"\"\")\n"
     ]
    },
    {
     "data": {
      "text/html": [
       "<div>\n",
       "<style scoped>\n",
       "    .dataframe tbody tr th:only-of-type {\n",
       "        vertical-align: middle;\n",
       "    }\n",
       "\n",
       "    .dataframe tbody tr th {\n",
       "        vertical-align: top;\n",
       "    }\n",
       "\n",
       "    .dataframe thead th {\n",
       "        text-align: right;\n",
       "    }\n",
       "</style>\n",
       "<table border=\"1\" class=\"dataframe\">\n",
       "  <thead>\n",
       "    <tr style=\"text-align: right;\">\n",
       "      <th>index</th>\n",
       "      <th>kwartał</th>\n",
       "      <th>Ceny energii (%, r/r)</th>\n",
       "      <th>Ceny żywności (%, r/r)</th>\n",
       "      <th>Deflator wartości dodanej za granicą (%, r/r)</th>\n",
       "      <th>Eksport (%, r/r)</th>\n",
       "      <th>Import (%, r/r)</th>\n",
       "      <th>Indeks cen surowców energetycznych (USD; 2011=1,00)</th>\n",
       "      <th>Indeks cen surowców rolnych (EUR; 2011=1,00)</th>\n",
       "      <th>Inflacja bazowa (CPI po wyłączeniu cen żywności i energii, %, r/r)</th>\n",
       "      <th>Jednostkowe koszty pracy (%, r/r)</th>\n",
       "      <th>...</th>\n",
       "      <th>Saldo rachunku bieżącego (% PKB)</th>\n",
       "      <th>Spożycie gospodarstw domowych (%, r/r)</th>\n",
       "      <th>Spożycie publiczne (%, r/r)</th>\n",
       "      <th>Stopa aktywności zawodowej (%)</th>\n",
       "      <th>Stopa bezrobocia (%)</th>\n",
       "      <th>WIBOR 3M (%)</th>\n",
       "      <th>Wkład eksportu netto (pkt proc., r/r)</th>\n",
       "      <th>Wskaźnik cen konsumenta CPI (%, r/r)</th>\n",
       "      <th>Wydajność pracy (%, r/r)</th>\n",
       "      <th>Wynagrodzenia (%, r/r)</th>\n",
       "    </tr>\n",
       "  </thead>\n",
       "  <tbody>\n",
       "    <tr>\n",
       "      <th>23</th>\n",
       "      <td>2024Q4</td>\n",
       "      <td>6.8</td>\n",
       "      <td>3.4</td>\n",
       "      <td>2.3</td>\n",
       "      <td>4.1</td>\n",
       "      <td>2.0</td>\n",
       "      <td>1.74</td>\n",
       "      <td>1.22</td>\n",
       "      <td>5.0</td>\n",
       "      <td>2.9</td>\n",
       "      <td>...</td>\n",
       "      <td>-0.1</td>\n",
       "      <td>1.0</td>\n",
       "      <td>1.1</td>\n",
       "      <td>57.6</td>\n",
       "      <td>4.8</td>\n",
       "      <td>6.95</td>\n",
       "      <td>1.4</td>\n",
       "      <td>4.9</td>\n",
       "      <td>3.6</td>\n",
       "      <td>6.7</td>\n",
       "    </tr>\n",
       "    <tr>\n",
       "      <th>24</th>\n",
       "      <td>2025Q1</td>\n",
       "      <td>6.4</td>\n",
       "      <td>2.5</td>\n",
       "      <td>2.0</td>\n",
       "      <td>4.0</td>\n",
       "      <td>3.1</td>\n",
       "      <td>1.76</td>\n",
       "      <td>1.22</td>\n",
       "      <td>4.3</td>\n",
       "      <td>2.3</td>\n",
       "      <td>...</td>\n",
       "      <td>0.1</td>\n",
       "      <td>1.8</td>\n",
       "      <td>1.9</td>\n",
       "      <td>57.5</td>\n",
       "      <td>4.8</td>\n",
       "      <td>6.95</td>\n",
       "      <td>0.8</td>\n",
       "      <td>4.2</td>\n",
       "      <td>3.9</td>\n",
       "      <td>6.4</td>\n",
       "    </tr>\n",
       "    <tr>\n",
       "      <th>25</th>\n",
       "      <td>2025Q2</td>\n",
       "      <td>5.8</td>\n",
       "      <td>2.0</td>\n",
       "      <td>1.8</td>\n",
       "      <td>3.8</td>\n",
       "      <td>3.6</td>\n",
       "      <td>1.63</td>\n",
       "      <td>1.24</td>\n",
       "      <td>3.8</td>\n",
       "      <td>2.5</td>\n",
       "      <td>...</td>\n",
       "      <td>0.2</td>\n",
       "      <td>1.7</td>\n",
       "      <td>2.4</td>\n",
       "      <td>57.6</td>\n",
       "      <td>4.8</td>\n",
       "      <td>6.95</td>\n",
       "      <td>0.4</td>\n",
       "      <td>3.6</td>\n",
       "      <td>3.3</td>\n",
       "      <td>5.9</td>\n",
       "    </tr>\n",
       "    <tr>\n",
       "      <th>26</th>\n",
       "      <td>2025Q3</td>\n",
       "      <td>5.3</td>\n",
       "      <td>1.6</td>\n",
       "      <td>1.7</td>\n",
       "      <td>3.9</td>\n",
       "      <td>3.8</td>\n",
       "      <td>1.52</td>\n",
       "      <td>1.22</td>\n",
       "      <td>3.4</td>\n",
       "      <td>1.9</td>\n",
       "      <td>...</td>\n",
       "      <td>0.3</td>\n",
       "      <td>1.7</td>\n",
       "      <td>3.1</td>\n",
       "      <td>57.5</td>\n",
       "      <td>4.8</td>\n",
       "      <td>6.95</td>\n",
       "      <td>0.4</td>\n",
       "      <td>3.3</td>\n",
       "      <td>3.7</td>\n",
       "      <td>5.6</td>\n",
       "    </tr>\n",
       "    <tr>\n",
       "      <th>27</th>\n",
       "      <td>2025Q4</td>\n",
       "      <td>5.0</td>\n",
       "      <td>1.5</td>\n",
       "      <td>1.7</td>\n",
       "      <td>4.1</td>\n",
       "      <td>3.5</td>\n",
       "      <td>1.49</td>\n",
       "      <td>1.22</td>\n",
       "      <td>3.1</td>\n",
       "      <td>2.1</td>\n",
       "      <td>...</td>\n",
       "      <td>0.5</td>\n",
       "      <td>1.5</td>\n",
       "      <td>3.2</td>\n",
       "      <td>57.5</td>\n",
       "      <td>4.9</td>\n",
       "      <td>6.95</td>\n",
       "      <td>0.6</td>\n",
       "      <td>3.0</td>\n",
       "      <td>3.4</td>\n",
       "      <td>5.6</td>\n",
       "    </tr>\n",
       "  </tbody>\n",
       "</table>\n",
       "<p>5 rows × 28 columns</p>\n",
       "</div>"
      ],
      "text/plain": [
       "index kwartał  Ceny energii (%, r/r)  Ceny żywności (%, r/r)  \\\n",
       "23     2024Q4                    6.8                     3.4   \n",
       "24     2025Q1                    6.4                     2.5   \n",
       "25     2025Q2                    5.8                     2.0   \n",
       "26     2025Q3                    5.3                     1.6   \n",
       "27     2025Q4                    5.0                     1.5   \n",
       "\n",
       "index  Deflator wartości dodanej za granicą (%, r/r)  Eksport (%, r/r)  \\\n",
       "23                                               2.3               4.1   \n",
       "24                                               2.0               4.0   \n",
       "25                                               1.8               3.8   \n",
       "26                                               1.7               3.9   \n",
       "27                                               1.7               4.1   \n",
       "\n",
       "index  Import (%, r/r)  Indeks cen surowców energetycznych (USD; 2011=1,00)  \\\n",
       "23                 2.0                                               1.74     \n",
       "24                 3.1                                               1.76     \n",
       "25                 3.6                                               1.63     \n",
       "26                 3.8                                               1.52     \n",
       "27                 3.5                                               1.49     \n",
       "\n",
       "index  Indeks cen surowców rolnych (EUR; 2011=1,00)  \\\n",
       "23                                             1.22   \n",
       "24                                             1.22   \n",
       "25                                             1.24   \n",
       "26                                             1.22   \n",
       "27                                             1.22   \n",
       "\n",
       "index  Inflacja bazowa (CPI po wyłączeniu cen żywności i energii, %, r/r)  \\\n",
       "23                                                   5.0                    \n",
       "24                                                   4.3                    \n",
       "25                                                   3.8                    \n",
       "26                                                   3.4                    \n",
       "27                                                   3.1                    \n",
       "\n",
       "index  Jednostkowe koszty pracy (%, r/r)  ...  \\\n",
       "23                                   2.9  ...   \n",
       "24                                   2.3  ...   \n",
       "25                                   2.5  ...   \n",
       "26                                   1.9  ...   \n",
       "27                                   2.1  ...   \n",
       "\n",
       "index  Saldo rachunku bieżącego (% PKB)  \\\n",
       "23                                 -0.1   \n",
       "24                                  0.1   \n",
       "25                                  0.2   \n",
       "26                                  0.3   \n",
       "27                                  0.5   \n",
       "\n",
       "index  Spożycie gospodarstw domowych (%, r/r)  Spożycie publiczne (%, r/r)  \\\n",
       "23                                        1.0                          1.1   \n",
       "24                                        1.8                          1.9   \n",
       "25                                        1.7                          2.4   \n",
       "26                                        1.7                          3.1   \n",
       "27                                        1.5                          3.2   \n",
       "\n",
       "index  Stopa aktywności zawodowej (%)  Stopa bezrobocia (%)  WIBOR 3M (%)  \\\n",
       "23                               57.6                   4.8          6.95   \n",
       "24                               57.5                   4.8          6.95   \n",
       "25                               57.6                   4.8          6.95   \n",
       "26                               57.5                   4.8          6.95   \n",
       "27                               57.5                   4.9          6.95   \n",
       "\n",
       "index  Wkład eksportu netto (pkt proc., r/r)  \\\n",
       "23                                       1.4   \n",
       "24                                       0.8   \n",
       "25                                       0.4   \n",
       "26                                       0.4   \n",
       "27                                       0.6   \n",
       "\n",
       "index  Wskaźnik cen konsumenta CPI (%, r/r)  Wydajność pracy (%, r/r)  \\\n",
       "23                                      4.9                       3.6   \n",
       "24                                      4.2                       3.9   \n",
       "25                                      3.6                       3.3   \n",
       "26                                      3.3                       3.7   \n",
       "27                                      3.0                       3.4   \n",
       "\n",
       "index  Wynagrodzenia (%, r/r)  \n",
       "23                        6.7  \n",
       "24                        6.4  \n",
       "25                        5.9  \n",
       "26                        5.6  \n",
       "27                        5.6  \n",
       "\n",
       "[5 rows x 28 columns]"
      ]
     },
     "execution_count": 5,
     "metadata": {},
     "output_type": "execute_result"
    }
   ],
   "source": [
    "makroekonomiczne = pd.read_excel('', sheet_name= '').set_index('index').stack().reset_index().rename(columns={'level_1':'kwartał',0:'wartość'})\n",
    "makroekonomiczne = makroekonomiczne[~makroekonomiczne.kwartał.isin([...])]\n",
    "\n",
    "# Usunięcie niepotrzebnych spacji w wartościach\n",
    "makroekonomiczne = makroekonomiczne.apply(lambda x: x.str.strip() if x.dtype == \"object\" else x)\n",
    "\n",
    "# Zamiana tekstu na datę - kwartał\n",
    "makroekonomiczne['kwartał'] =  pd.to_datetime(makroekonomiczne['kwartał']).dt.to_period('Q')\n",
    "\n",
    "# Stworzenie ostatecznej tabelki \n",
    "makroekonomiczne = makroekonomiczne.pivot_table('wartość', 'kwartał','index').reset_index()\n",
    "\n",
    "makroekonomiczne.tail(5)"
   ]
  },
  {
   "cell_type": "markdown",
   "id": "e0c49652",
   "metadata": {},
   "source": [
    "`Wczytanie danych sprzedażowych`"
   ]
  },
  {
   "cell_type": "code",
   "execution_count": 6,
   "id": "92d50af3",
   "metadata": {},
   "outputs": [],
   "source": [
    "path = '...' \n",
    "paragony= pd.concat([pd.read_parquet(path+part) for part in os.listdir(path)])\n",
    "\n",
    "# KOLUMNA Z MIESIĄCEM - czyszczenie kolumn\n",
    "paragony['CALMONTH'] = paragony['CALDAY'].apply(lambda x: str(x)[:-2]).astype(int)\n",
    "paragony['ARTICLE'] = pd.to_numeric(paragony.ARTICLE)\n",
    "paragony['CALDAY'] = pd.to_datetime(paragony['CALDAY'])\n",
    "\n",
    "# Grupowanie\n",
    "paragony = paragony.groupby(['STORE','CALMONTH','CALDAY'])[['STORE','TOTAL_SALES', 'TOTAL_VOLUME_SOLD', 'CALDAY', 'CALMONTH']].agg({'TOTAL_SALES':'sum','TOTAL_VOLUME_SOLD': 'sum'}).reset_index()\n",
    "paragony['STORE'] = paragony['STORE'].astype(int)"
   ]
  },
  {
   "cell_type": "code",
   "execution_count": 8,
   "id": "2b391b86",
   "metadata": {},
   "outputs": [],
   "source": [
    "# Rozpoczęcie od kalendarza i dalsza obudowa\n",
    "start_kal , stop_kal = paragony.CALDAY.sort_values()[0], paragony.CALDAY.sort_values()[len(paragony)-1]\n",
    "\n",
    "# Połączenie\n",
    "par = []\n",
    "for sklep in paragony.STORE.unique():\n",
    "    dla_sklepu = paragony[paragony.STORE == sklep]\n",
    "    tab = pd.merge(kalendarz[(kalendarz.data >= start_kal)&(kalendarz.data <= '')]\n",
    "                   , dla_sklepu \n",
    "                   , left_on='data'\n",
    "                   , right_on='CALDAY'\n",
    "                   , how='left')\n",
    "    tab['STORE'] = sklep\n",
    "    tab['CALDAY'] = tab['data']\n",
    "    tab['CALMONTH'] = (tab['CALDAY'].dt.year.astype(str) + tab['CALDAY'].dt.month.map(\"{:02}\".format).astype(str)).astype(int)\n",
    "    par.append(tab)\n",
    "paragony = pd.concat(par)\n",
    "\n",
    "# Nałożenie inflacji\n",
    "paragony = paragony.merge(inflacja[['Wartość', 'Wskaźnik_inflacji', 'Wskaźnik_inflacji_lag', 'CALMONTH']], on = 'CALMONTH', how='left').rename(columns = {'Wartość':'Wartość inflacji'})\n",
    "\n",
    "# Dodanie do paragononów kolumny z kwartałem\n",
    "paragony['kwartał'] = pd.PeriodIndex(paragony.CALDAY, freq='Q')\n",
    "\n",
    "# Nałożenie zmiennych makroekonomicznych\n",
    "paragony = paragony.merge(makroekonomiczne, on='kwartał', how = 'left')"
   ]
  },
  {
   "cell_type": "markdown",
   "id": "48d676e8",
   "metadata": {},
   "source": [
    "### Trenowanie modelu i wybór najlepszego"
   ]
  },
  {
   "cell_type": "markdown",
   "id": "9630e147",
   "metadata": {},
   "source": [
    "`Analiza wizualna`"
   ]
  },
  {
   "cell_type": "code",
   "execution_count": null,
   "id": "fc5acd0e",
   "metadata": {},
   "outputs": [],
   "source": [
    "fig = px.line(paragony.set_index('CALDAY').groupby(pd.Grouper(freq='W'))['TOTAL_SALES'].sum().reset_index(), x=\"CALDAY\", y=\"TOTAL_SALES\")\n",
    "fig.show()"
   ]
  },
  {
   "cell_type": "markdown",
   "id": "158373ad",
   "metadata": {},
   "source": [
    "#### Dla wszystkich sklepów"
   ]
  },
  {
   "cell_type": "markdown",
   "id": "c4dbe7fd",
   "metadata": {},
   "source": [
    "`testowanie`"
   ]
  },
  {
   "cell_type": "code",
   "execution_count": 12,
   "id": "ae1e32a1",
   "metadata": {},
   "outputs": [],
   "source": [
    "liquidation_store_y = paragony.set_index('CALDAY').groupby(pd.Grouper(freq='W'))['TOTAL_SALES'].sum().reset_index().rename(columns = {'TOTAL_SALES':'VALUE'}).set_index('CALDAY')\n",
    "liquidation_store_y.index.freq = 'W'\n",
    "liquidation_store_X = paragony.set_index('CALDAY').groupby([pd.Grouper( freq='W')]).aggregate({'Wskaźnik_inflacji': 'mean', 'święto':(lambda x: sum(x)/paragony.STORE.nunique()), 'święta_szczególne':(lambda x: sum(x)/paragony.STORE.nunique())})"
   ]
  },
  {
   "cell_type": "code",
   "execution_count": 13,
   "id": "319f41f1",
   "metadata": {},
   "outputs": [],
   "source": [
    "test_size=0.2\n",
    "# PODZIAŁ NA ZBIÓR TRENINGOWY I TESTOWY I JEGO WIZUALIZACJA\n",
    "y_train, y_test, X_train, X_test = temporal_train_test_split(liquidation_store_y,liquidation_store_X, test_size= test_size)\n",
    "# Horyzont do predykcji\n",
    "fh = ForecastingHorizon(X_test.dropna().index, is_relative=False)"
   ]
  },
  {
   "cell_type": "markdown",
   "id": "11d3fa66",
   "metadata": {},
   "source": [
    "`predykcja`"
   ]
  },
  {
   "cell_type": "code",
   "execution_count": null,
   "id": "c9742d29",
   "metadata": {},
   "outputs": [],
   "source": [
    "forecaster_prophet = Prophet()\n",
    "#forecaster_prophet = Prophet(add_country_holidays={'country_name': 'Poland'}, holidays_prior_scale=1)\n",
    "forecaster_prophet.fit(y = y_train, X = X_train)\n",
    "\n",
    "y_pred_prophet = forecaster_prophet.predict(X = X_test.dropna(),fh=fh) # predict\n",
    "\n",
    "\n",
    "wykres(y_train,y_test,y_pred_prophet)"
   ]
  },
  {
   "cell_type": "markdown",
   "id": "88254287",
   "metadata": {},
   "source": [
    "`prognoza w przód - luty-grudzień + analiza wizualna`"
   ]
  },
  {
   "cell_type": "code",
   "execution_count": 17,
   "id": "eb241ec0",
   "metadata": {},
   "outputs": [],
   "source": [
    "y_train, X_train = liquidation_store_y[liquidation_store_y.index < ''] , liquidation_store_X[liquidation_store_X.index < '']\n",
    "X_train = X_train.fillna(method = 'bfill')\n",
    "x = ...\n",
    "X_train = X_train.fillna(x)    # Wypełnienie brakującej inflacji\n",
    "\n",
    "# Tworzenie zbioru przyszłych X do predykcji\n",
    "X_test = X.set_index('CALDAY')\n",
    "X_test.index = pd.to_datetime(X_test.index)\n",
    "X_test = X_test.groupby(pd.Grouper(freq='W')).aggregate({'Wskaźnik_inflacji':'mean', 'święto': (lambda x: sum(x)/X_test.STORE.nunique()),'święta_szczególne': (lambda x: sum(x)/X_test.STORE.nunique())})\n",
    "X_test = X_test[-48:]\n",
    "\n",
    "# Horyzont do predykcji\n",
    "fh = ForecastingHorizon(y_train.index[-48:].shift(48), is_relative=False) # wcześniej 53\n",
    "fh"
   ]
  },
  {
   "cell_type": "code",
   "execution_count": null,
   "id": "92b21966",
   "metadata": {},
   "outputs": [],
   "source": [
    "forecaster_prophet = Prophet(add_country_holidays={'country_name': 'Poland'})\n",
    "forecaster_prophet.fit(y = y_train, X = X_train)\n",
    "\n",
    "y_pred_prophet = forecaster_prophet.predict(X = X_test.dropna(),fh=fh) # predict\n",
    "\n",
    "y_train = y_train.rename(columns={'TOTAL_SALES':'VALUE'})\n",
    "y_test = y_test.rename(columns={'TOTAL_SALES':'VALUE'})\n",
    "y_pred_prophet = y_pred_prophet.rename(columns={'TOTAL_SALES':'VALUE'})\n",
    "liquidation_store_y = liquidation_store_y.rename(columns={'TOTAL_SALES':'VALUE'})\n",
    "\n",
    "wykres(y_train,y_test,y_pred_prophet)"
   ]
  },
  {
   "cell_type": "markdown",
   "id": "dfb049f7",
   "metadata": {},
   "source": [
    "`Zapiasanie kroku`"
   ]
  },
  {
   "cell_type": "code",
   "execution_count": 28,
   "id": "51f15d04",
   "metadata": {},
   "outputs": [
    {
     "data": {
      "text/html": [
       "<div>\n",
       "<style scoped>\n",
       "    .dataframe tbody tr th:only-of-type {\n",
       "        vertical-align: middle;\n",
       "    }\n",
       "\n",
       "    .dataframe tbody tr th {\n",
       "        vertical-align: top;\n",
       "    }\n",
       "\n",
       "    .dataframe thead th {\n",
       "        text-align: right;\n",
       "    }\n",
       "</style>\n",
       "<table border=\"1\" class=\"dataframe\">\n",
       "  <thead>\n",
       "    <tr style=\"text-align: right;\">\n",
       "      <th></th>\n",
       "      <th>TOTAL_SALES</th>\n",
       "      <th>STORE_FORCOM_ID</th>\n",
       "      <th>lower</th>\n",
       "      <th>upper</th>\n",
       "    </tr>\n",
       "  </thead>\n",
       "  <tbody>\n",
       "    <tr>\n",
       "      <th>2023-02-05</th>\n",
       "      <td>4.692546e+07</td>\n",
       "      <td>all</td>\n",
       "      <td>4.189477e+07</td>\n",
       "      <td>5.233455e+07</td>\n",
       "    </tr>\n",
       "    <tr>\n",
       "      <th>2023-02-12</th>\n",
       "      <td>4.524156e+07</td>\n",
       "      <td>all</td>\n",
       "      <td>3.988520e+07</td>\n",
       "      <td>5.034114e+07</td>\n",
       "    </tr>\n",
       "    <tr>\n",
       "      <th>2023-02-19</th>\n",
       "      <td>4.527727e+07</td>\n",
       "      <td>all</td>\n",
       "      <td>4.001997e+07</td>\n",
       "      <td>5.040578e+07</td>\n",
       "    </tr>\n",
       "    <tr>\n",
       "      <th>2023-02-26</th>\n",
       "      <td>4.744995e+07</td>\n",
       "      <td>all</td>\n",
       "      <td>4.251718e+07</td>\n",
       "      <td>5.282548e+07</td>\n",
       "    </tr>\n",
       "    <tr>\n",
       "      <th>2023-03-05</th>\n",
       "      <td>5.026711e+07</td>\n",
       "      <td>all</td>\n",
       "      <td>4.476361e+07</td>\n",
       "      <td>5.548694e+07</td>\n",
       "    </tr>\n",
       "  </tbody>\n",
       "</table>\n",
       "</div>"
      ],
      "text/plain": [
       "             TOTAL_SALES STORE_FORCOM_ID         lower         upper\n",
       "2023-02-05  4.692546e+07             all  4.189477e+07  5.233455e+07\n",
       "2023-02-12  4.524156e+07             all  3.988520e+07  5.034114e+07\n",
       "2023-02-19  4.527727e+07             all  4.001997e+07  5.040578e+07\n",
       "2023-02-26  4.744995e+07             all  4.251718e+07  5.282548e+07\n",
       "2023-03-05  5.026711e+07             all  4.476361e+07  5.548694e+07"
      ]
     },
     "execution_count": 28,
     "metadata": {},
     "output_type": "execute_result"
    }
   ],
   "source": [
    "all_stores = y_pred_prophet\n",
    "all_stores['STORE_FORCOM_ID'] = 'all'\n",
    "\n",
    "y_pred_intervals = forecaster_prophet.predict_interval(fh= fh, X=X_test.dropna())\n",
    "y_pred_intervals.columns = ['lower','upper']\n",
    "all_stores['lower'] = y_pred_intervals['lower']\n",
    "all_stores['upper'] = y_pred_intervals['upper']\n",
    "\n",
    "\n",
    "all_stores = all_stores.rename(columns = {'VALUE':'TOTAL_SALES'})\n",
    "\n",
    "all_stores = convert_weekly_to_monthly(all_stores[['TOTAL_SALES', 'lower', 'upper']])\n",
    "all_stores['STORE'] = 'all'\n",
    "\n",
    "all_stores.head()"
   ]
  },
  {
   "cell_type": "code",
   "execution_count": 34,
   "id": "732171df",
   "metadata": {},
   "outputs": [],
   "source": [
    "y_train, X_train = liquidation_store_y[liquidation_store_y.index < ''] , liquidation_store_X[liquidation_store_X.index < '']\n",
    "X_train = X_train.fillna(method = 'bfill')\n",
    "\n",
    "# Tworzenie zbioru przyszłych X do predykcji\n",
    "X_test = X.set_index('CALDAY')#.groupby(pd.Grouper(freq='W')).aggregate({'Wskaźnik_inflacji':'mean', 'święto':sum})\n",
    "X_test.index = pd.to_datetime(X_test.index)\n",
    "X_test = X_test.groupby(pd.Grouper(freq='W')).aggregate({'Wskaźnik_inflacji':'mean', 'święto': (lambda x: sum(x)/X_test.STORE.nunique()),'święta_szczególne': (lambda x: sum(x)/X_test.STORE.nunique())})\n",
    "X_test = X_test[:6]\n",
    "\n",
    "# Horyzont do predykcji\n",
    "fh = ForecastingHorizon(y_train.index[-6:].shift(6), is_relative=False)"
   ]
  },
  {
   "cell_type": "code",
   "execution_count": 36,
   "id": "fee84e3b",
   "metadata": {},
   "outputs": [
    {
     "name": "stderr",
     "output_type": "stream",
     "text": [
      "14:01:56 - cmdstanpy - INFO - Chain [1] start processing\n",
      "14:01:56 - cmdstanpy - INFO - Chain [1] done processing\n"
     ]
    }
   ],
   "source": [
    "forecaster_prophet = Prophet(add_country_holidays={'country_name': 'Poland'})\n",
    "forecaster_prophet.fit(y = y_train, X = X_train)\n",
    "\n",
    "y_pred_prophet = forecaster_prophet.predict(X = X_test.dropna(),fh=fh)\n",
    "y_pred_intervals = forecaster_prophet.predict_interval(fh= fh, X=X_test.dropna())\n",
    "y_pred_intervals.columns = ['lower','upper']\n",
    "y_pred_prophet['lower'] = y_pred_intervals['lower']\n",
    "y_pred_prophet['upper'] = y_pred_intervals['upper']\n",
    "\n",
    "all_stores_2 = y_pred_prophet\n",
    "all_stores_2['STORE'] = 'all'\n",
    "all_stores_2 = all_stores_2.rename(columns = {'VALUE':'TOTAL_SALES'})\n",
    "\n",
    "all_stores_2 = convert_weekly_to_monthly(all_stores_2[['TOTAL_SALES', 'lower', 'upper']])\n",
    "all_stores_2['STORE'] = 'all'\n",
    "all_stores_2"
   ]
  },
  {
   "cell_type": "markdown",
   "id": "1b21b3fc",
   "metadata": {},
   "source": [
    "`Połączenie prognoz styczniowej i luty-grudzień`"
   ]
  },
  {
   "cell_type": "code",
   "execution_count": 43,
   "id": "75464bab",
   "metadata": {},
   "outputs": [],
   "source": [
    "# PROGNOZA ZBIORCZA\n",
    "all_stores = pd.concat([all_stores, all_stores_2]).sort_index()"
   ]
  },
  {
   "cell_type": "markdown",
   "id": "eebfb213",
   "metadata": {},
   "source": [
    "`Sprawdzenie dopasowania na zbiorze testowym`"
   ]
  },
  {
   "cell_type": "code",
   "execution_count": 39,
   "id": "a7410b33",
   "metadata": {},
   "outputs": [],
   "source": [
    "teeest = forecaster_prophet.predict(X = X_train,fh=X_train.index)\n",
    "wykres(y_train, teeest)"
   ]
  },
  {
   "cell_type": "markdown",
   "id": "9e55e3e5",
   "metadata": {},
   "source": [
    "#### Dla każdego ze sklepów"
   ]
  },
  {
   "cell_type": "markdown",
   "id": "0d4d18a5",
   "metadata": {},
   "source": [
    "`Testowanie`"
   ]
  },
  {
   "cell_type": "code",
   "execution_count": 45,
   "id": "cf98f1d6",
   "metadata": {},
   "outputs": [],
   "source": [
    "liquidation_store_y = paragony[paragony.STORE == sklep].set_index('CALDAY').groupby(pd.Grouper(freq='W'))['TOTAL_SALES'].sum().reset_index().set_index('CALDAY')\n",
    "liquidation_store_y.index.freq = 'W'\n",
    "liquidation_store_X =paragony[paragony.STORE == sklep].set_index('CALDAY').groupby([pd.Grouper( freq='W')]).aggregate({'Wskaźnik_inflacji':'mean', 'święto':sum, 'święta_szczególne':sum})"
   ]
  },
  {
   "cell_type": "code",
   "execution_count": 46,
   "id": "f317106d",
   "metadata": {},
   "outputs": [],
   "source": [
    "test_size=0.2\n",
    "# PODZIAŁ NA ZBIÓR TRENINGOWY I TESTOWY I JEGO WIZUALIZACJA\n",
    "y_train, y_test, X_train, X_test = temporal_train_test_split(liquidation_store_y,liquidation_store_X, test_size= test_size)\n",
    "# Horyzont do predykcji\n",
    "fh = ForecastingHorizon(X_test.dropna().index, is_relative=False)"
   ]
  },
  {
   "cell_type": "code",
   "execution_count": null,
   "id": "0683a031",
   "metadata": {},
   "outputs": [],
   "source": [
    "forecaster_prophet = Prophet(add_country_holidays={'country_name': 'Poland'})\n",
    "forecaster_prophet.fit(y = y_train, X = X_train)\n",
    "\n",
    "y_pred_prophet = forecaster_prophet.predict(X = X_test.dropna(),fh=fh) # predict\n",
    "\n",
    "liquidation_store_y = liquidation_store_y.rename(columns = {'TOTAL_SALES':'VALUE'})\n",
    "wykres(y_train.rename(columns = {'TOTAL_SALES':'VALUE'}),y_test.rename(columns = {'TOTAL_SALES':'VALUE'}),y_pred_prophet.rename(columns = {'TOTAL_SALES':'VALUE'}))"
   ]
  },
  {
   "cell_type": "markdown",
   "id": "a8dac77c",
   "metadata": {},
   "source": [
    "`Total sales`"
   ]
  },
  {
   "cell_type": "markdown",
   "id": "24178e95",
   "metadata": {},
   "source": [
    "`luty-grudzień`"
   ]
  },
  {
   "cell_type": "code",
   "execution_count": null,
   "id": "c396260e",
   "metadata": {},
   "outputs": [],
   "source": [
    "forecaster_prophet = Prophet(add_country_holidays={'country_name': 'Poland'})\n",
    "przychody_sales = []\n",
    "for sklep in X.STORE.unique():\n",
    "    liquidation_store_y = paragony[paragony.STORE == sklep].set_index('CALDAY').groupby(pd.Grouper(freq='W'))['TOTAL_SALES'].sum().reset_index().set_index('CALDAY')\n",
    "    liquidation_store_y.index.freq = 'W'\n",
    "    liquidation_store_X =paragony[paragony.STORE == sklep].set_index('CALDAY').groupby([pd.Grouper( freq='W')]).aggregate({'Wskaźnik_inflacji':'mean', 'święto':sum, 'święta_szczególne':sum})\n",
    "    \n",
    "    # PODZIAŁ NA ZBIÓR TRENINGOWY I TESTOWY I JEGO WIZUALIZACJA\n",
    "    y_train, X_train = liquidation_store_y[liquidation_store_y.index < ''] , liquidation_store_X[liquidation_store_X.index < '']\n",
    "    X_train = X_train.fillna(method = 'bfill')\n",
    "    X_train = X_train.fillna(xxx)                      # inflacja za brakujący okres\n",
    "    # Horyzont do predykcji\n",
    "    fh = ForecastingHorizon(y_train.index[-48:].shift(48), is_relative=False)\n",
    "    \n",
    "    # Tworzenie zbioru przyszłych X do predykcji\n",
    "    X_test = X[X.STORE == sklep].set_index('CALDAY')\n",
    "    X_test.index = pd.to_datetime(X_test.index)\n",
    "    X_test = X_test.groupby(pd.Grouper(freq='W')).aggregate({'Wskaźnik_inflacji':'mean', 'święto':sum, 'święta_szczególne':sum})\n",
    "    X_test = X_test\n",
    "    \n",
    "    # Predykcja przychodów\n",
    "    forecaster_prophet.fit(y = y_train, X = X_train)\n",
    "    y_pred_prophet = forecaster_prophet.predict(X = X_test.dropna(),fh=fh)\n",
    "    y_pred_prophet['STORE'] = sklep\n",
    "    y_pred_intervals = forecaster_prophet.predict_interval(fh= fh, X=X_test.dropna())\n",
    "    y_pred_intervals.columns = ['lower','upper']\n",
    "    y_pred_prophet['lower'] = y_pred_intervals['lower']\n",
    "    y_pred_prophet['upper'] = y_pred_intervals['upper']\n",
    "    \n",
    "    przychody_sales.append(y_pred_prophet)\n",
    "    print(sklep)\n",
    "    \n",
    "przychody_sales = pd.concat(przychody_sales)\n",
    "\n",
    "# Zapisanie do pliku do generowania zbioru X\n",
    "przychody_sales[['TOTAL_SALES','STORE']].reset_index().to_csv('przychody_sales.csv', index = False)"
   ]
  },
  {
   "cell_type": "markdown",
   "id": "dc3a7471",
   "metadata": {},
   "source": [
    "`styczeń`"
   ]
  },
  {
   "cell_type": "code",
   "execution_count": null,
   "id": "4bbb0eba",
   "metadata": {},
   "outputs": [],
   "source": [
    "forecaster_prophet = Prophet(add_country_holidays={'country_name': 'Poland'})\n",
    "przychody_sales_2 = []\n",
    "for sklep in X.STORE.unique():\n",
    "    liquidation_store_y = paragony[paragony.STORE == sklep].set_index('CALDAY').groupby(pd.Grouper(freq='W'))['TOTAL_SALES'].sum().reset_index().set_index('CALDAY')\n",
    "    liquidation_store_y.index.freq = 'W'\n",
    "    liquidation_store_X =paragony[paragony.STORE == sklep].set_index('CALDAY').groupby([pd.Grouper( freq='W')]).aggregate({'Wskaźnik_inflacji':'mean', 'święto':sum, 'święta_szczególne':sum})\n",
    "    \n",
    "    # PODZIAŁ NA ZBIÓR TRENINGOWY I TESTOWY I JEGO WIZUALIZACJA\n",
    "    y_train, X_train = liquidation_store_y[liquidation_store_y.index < ''] , liquidation_store_X[liquidation_store_X.index < '']\n",
    "    X_train = X_train.fillna(method = 'bfill')\n",
    "    X_train = X_train.fillna(xxx)    # Inflacja za styczeń\n",
    "    # Horyzont do predykcji\n",
    "    fh = ForecastingHorizon(y_train.index[-6:].shift(6), is_relative=False)\n",
    "    \n",
    "    # Tworzenie zbioru przyszłych X do predykcji\n",
    "    X_test = X[X.STORE == sklep].set_index('CALDAY')\n",
    "    X_test.index = pd.to_datetime(X_test.index)\n",
    "    X_test = X_test.groupby(pd.Grouper(freq='W')).aggregate({'Wskaźnik_inflacji':'mean', 'święto':sum, 'święta_szczególne':sum})\n",
    "    X_test = X_test\n",
    "    \n",
    "    # Predykcja przychodów\n",
    "    forecaster_prophet.fit(y = y_train, X = X_train)\n",
    "    y_pred_prophet = forecaster_prophet.predict(X = X_test.dropna(),fh=fh)\n",
    "    y_pred_prophet['STORE'] = sklep\n",
    "    y_pred_intervals = forecaster_prophet.predict_interval(fh= fh, X=X_test.dropna())\n",
    "    y_pred_intervals.columns = ['lower','upper']\n",
    "    y_pred_prophet['lower'] = y_pred_intervals['lower']\n",
    "    y_pred_prophet['upper'] = y_pred_intervals['upper']\n",
    "    \n",
    "    przychody_sales_2.append(y_pred_prophet)\n",
    "    print(sklep)\n",
    "    \n",
    "przychody_sales_2 = pd.concat(przychody_sales_2)"
   ]
  },
  {
   "cell_type": "markdown",
   "id": "306880d7",
   "metadata": {},
   "source": [
    "`Grupowanie i połączenie prognoz styczniowej i luty-grudzień`"
   ]
  },
  {
   "cell_type": "code",
   "execution_count": 59,
   "id": "34daa7bd",
   "metadata": {},
   "outputs": [
    {
     "data": {
      "text/html": [
       "<div>\n",
       "<style scoped>\n",
       "    .dataframe tbody tr th:only-of-type {\n",
       "        vertical-align: middle;\n",
       "    }\n",
       "\n",
       "    .dataframe tbody tr th {\n",
       "        vertical-align: top;\n",
       "    }\n",
       "\n",
       "    .dataframe thead th {\n",
       "        text-align: right;\n",
       "    }\n",
       "</style>\n",
       "<table border=\"1\" class=\"dataframe\">\n",
       "  <thead>\n",
       "    <tr style=\"text-align: right;\">\n",
       "      <th></th>\n",
       "      <th>TOTAL_SALES</th>\n",
       "      <th>lower</th>\n",
       "      <th>upper</th>\n",
       "      <th>STORE_FORCOM_ID</th>\n",
       "    </tr>\n",
       "  </thead>\n",
       "  <tbody>\n",
       "    <tr>\n",
       "      <th>2023-02-28</th>\n",
       "      <td>384008.672381</td>\n",
       "      <td>339050.270067</td>\n",
       "      <td>430952.278142</td>\n",
       "      <td>1001</td>\n",
       "    </tr>\n",
       "    <tr>\n",
       "      <th>2023-03-31</th>\n",
       "      <td>476717.640189</td>\n",
       "      <td>428492.173213</td>\n",
       "      <td>525901.686469</td>\n",
       "      <td>1001</td>\n",
       "    </tr>\n",
       "    <tr>\n",
       "      <th>2023-04-30</th>\n",
       "      <td>408015.740580</td>\n",
       "      <td>358911.739056</td>\n",
       "      <td>457250.566089</td>\n",
       "      <td>1001</td>\n",
       "    </tr>\n",
       "    <tr>\n",
       "      <th>2023-05-31</th>\n",
       "      <td>382609.444580</td>\n",
       "      <td>332060.457804</td>\n",
       "      <td>432890.403496</td>\n",
       "      <td>1001</td>\n",
       "    </tr>\n",
       "    <tr>\n",
       "      <th>2023-06-30</th>\n",
       "      <td>379133.623709</td>\n",
       "      <td>330346.332903</td>\n",
       "      <td>427602.939928</td>\n",
       "      <td>1001</td>\n",
       "    </tr>\n",
       "    <tr>\n",
       "      <th>...</th>\n",
       "      <td>...</td>\n",
       "      <td>...</td>\n",
       "      <td>...</td>\n",
       "      <td>...</td>\n",
       "    </tr>\n",
       "    <tr>\n",
       "      <th>2023-01-31</th>\n",
       "      <td>488592.128877</td>\n",
       "      <td>405078.298841</td>\n",
       "      <td>574254.742647</td>\n",
       "      <td>4345</td>\n",
       "    </tr>\n",
       "    <tr>\n",
       "      <th>2023-01-31</th>\n",
       "      <td>672135.670249</td>\n",
       "      <td>581568.636872</td>\n",
       "      <td>764955.081440</td>\n",
       "      <td>4346</td>\n",
       "    </tr>\n",
       "    <tr>\n",
       "      <th>2023-01-31</th>\n",
       "      <td>816391.827216</td>\n",
       "      <td>647532.043863</td>\n",
       "      <td>983778.247770</td>\n",
       "      <td>4424</td>\n",
       "    </tr>\n",
       "    <tr>\n",
       "      <th>2023-01-31</th>\n",
       "      <td>233535.969564</td>\n",
       "      <td>175018.639939</td>\n",
       "      <td>292698.111936</td>\n",
       "      <td>4440</td>\n",
       "    </tr>\n",
       "    <tr>\n",
       "      <th>2023-01-31</th>\n",
       "      <td>758079.217871</td>\n",
       "      <td>649539.052208</td>\n",
       "      <td>868256.415499</td>\n",
       "      <td>4464</td>\n",
       "    </tr>\n",
       "  </tbody>\n",
       "</table>\n",
       "<p>4776 rows × 4 columns</p>\n",
       "</div>"
      ],
      "text/plain": [
       "              TOTAL_SALES          lower          upper  STORE_FORCOM_ID\n",
       "2023-02-28  384008.672381  339050.270067  430952.278142             1001\n",
       "2023-03-31  476717.640189  428492.173213  525901.686469             1001\n",
       "2023-04-30  408015.740580  358911.739056  457250.566089             1001\n",
       "2023-05-31  382609.444580  332060.457804  432890.403496             1001\n",
       "2023-06-30  379133.623709  330346.332903  427602.939928             1001\n",
       "...                   ...            ...            ...              ...\n",
       "2023-01-31  488592.128877  405078.298841  574254.742647             4345\n",
       "2023-01-31  672135.670249  581568.636872  764955.081440             4346\n",
       "2023-01-31  816391.827216  647532.043863  983778.247770             4424\n",
       "2023-01-31  233535.969564  175018.639939  292698.111936             4440\n",
       "2023-01-31  758079.217871  649539.052208  868256.415499             4464\n",
       "\n",
       "[4776 rows x 4 columns]"
      ]
     },
     "execution_count": 59,
     "metadata": {},
     "output_type": "execute_result"
    }
   ],
   "source": [
    "sal = []\n",
    "for store in przychody_sales.STORE.unique():\n",
    "    df = przychody_sales[przychody_sales.STORE_FORCOM_ID == store]\n",
    "    df = convert_weekly_to_monthly(df[['TOTAL_SALES', 'lower', 'upper']])\n",
    "    df['STORE'] = store\n",
    "    sal.append(df)\n",
    "przychody_sales = pd.concat(sal)\n",
    "\n",
    "sal_2 = []\n",
    "for store in przychody_sales_2.STORE.unique():\n",
    "    df = przychody_sales_2[przychody_sales_2.STORE_FORCOM_ID == store]\n",
    "    df = convert_weekly_to_monthly(df[['TOTAL_SALES', 'lower', 'upper']])\n",
    "    df['STORE'] = store\n",
    "    sal_2.append(df)\n",
    "przychody_sales_2 = pd.concat(sal_2)"
   ]
  },
  {
   "cell_type": "code",
   "execution_count": 69,
   "id": "8185513d",
   "metadata": {},
   "outputs": [],
   "source": [
    "przychody = pd.concat([przychody_sales,przychody_sales_2]).sort_index().sort_values('STORE', kind='mergesort')"
   ]
  },
  {
   "cell_type": "markdown",
   "id": "1379b405",
   "metadata": {},
   "source": [
    "#### Złącznie wszystkich przychodów z przedziałem ufności do jednego pliku"
   ]
  },
  {
   "cell_type": "code",
   "execution_count": 82,
   "id": "b045c352",
   "metadata": {},
   "outputs": [],
   "source": [
    "przychody = pd.concat([all_stores,przychody])"
   ]
  },
  {
   "cell_type": "code",
   "execution_count": 83,
   "id": "f3663605",
   "metadata": {},
   "outputs": [],
   "source": [
    "przychody.reset_index().to_csv('predykcje_przychodow_all.csv', index = False)"
   ]
  },
  {
   "cell_type": "markdown",
   "id": "b778d612",
   "metadata": {},
   "source": [
    "`Total volume`"
   ]
  },
  {
   "cell_type": "code",
   "execution_count": null,
   "id": "81f8a902",
   "metadata": {},
   "outputs": [],
   "source": [
    "forecaster_prophet = Prophet(add_country_holidays={'country_name': 'Poland'})\n",
    "przychody_volume = []\n",
    "for sklep in X.STORE.unique():\n",
    "    liquidation_store_y = paragony[paragony.STORE == sklep].set_index('CALDAY').groupby(pd.Grouper(freq='W'))['TOTAL_VOLUME_SOLD'].sum().reset_index().set_index('CALDAY')\n",
    "    liquidation_store_y.index.freq = 'W'\n",
    "    liquidation_store_X =paragony[paragony.STORE == sklep].set_index('CALDAY').groupby([pd.Grouper( freq='W')]).aggregate({'Wskaźnik_inflacji':'mean', 'święto':sum})\n",
    "    \n",
    "    # PODZIAŁ NA ZBIÓR TRENINGOWY I TESTOWY I JEGO WIZUALIZACJA\n",
    "    y_train, X_train = liquidation_store_y[liquidation_store_y.index < ''] , liquidation_store_X[liquidation_store_X.index < '']\n",
    "    X_train = X_train.fillna(method = 'bfill')\n",
    "    \n",
    "    # Horyzont do predykcji\n",
    "    fh = ForecastingHorizon(y_train.index[-53:].shift(53), is_relative=False)\n",
    "    \n",
    "    # Tworzenie zbioru przyszłych X do predykcji\n",
    "    X_test = X[X.STORE_FORCOM_ID == sklep].set_index('CALDAY')\n",
    "    X_test.index = pd.to_datetime(X_test.index)\n",
    "    X_test = X_test.groupby(pd.Grouper(freq='W')).aggregate({'Wskaźnik_inflacji':'mean', 'święto':sum})\n",
    "    X_test = X_test[-48:]\n",
    "    \n",
    "    # Predykcja przychodów\n",
    "    forecaster_prophet.fit(y = y_train, X = X_train)\n",
    "    y_pred_prophet = forecaster_prophet.predict(X = X_test.dropna(),fh=fh)\n",
    "    y_pred_prophet['STORE'] = sklep\n",
    "    \n",
    "    przychody_volume.append(y_pred_prophet)\n",
    "    print(sklep)\n",
    "    \n",
    "przychody_volume = pd.concat(przychody_volume)"
   ]
  },
  {
   "cell_type": "code",
   "execution_count": 46,
   "id": "9c5f8974",
   "metadata": {},
   "outputs": [],
   "source": [
    "przychody_volume.reset_index().to_csv('przychody_volume.csv', index = False)"
   ]
  },
  {
   "cell_type": "markdown",
   "id": "4c1fb2b9",
   "metadata": {},
   "source": [
    "### Łączenie danych w całość"
   ]
  },
  {
   "cell_type": "markdown",
   "id": "debf2f87",
   "metadata": {},
   "source": [
    "`Wczytywanie dotychczasowego zbioru X`"
   ]
  },
  {
   "cell_type": "code",
   "execution_count": 62,
   "id": "3a1f062f",
   "metadata": {},
   "outputs": [],
   "source": [
    "X = pd.read_csv('Zbiór_X.csv')\n",
    "X = X.drop_duplicates()\n",
    "X = X.rename(columns = {'Wskaźnik cen konsumenta CPI (%, r/r)':'Wskaźnik_inflacji'})\n",
    "X.CALDAY = pd.to_datetime(X.CALDAY)\n",
    "X = X.set_index('CALDAY')"
   ]
  },
  {
   "cell_type": "markdown",
   "id": "4961572a",
   "metadata": {},
   "source": [
    "`Wczytywanie prognoz sprzedaży`"
   ]
  },
  {
   "cell_type": "code",
   "execution_count": 78,
   "id": "5a9947ed",
   "metadata": {},
   "outputs": [],
   "source": [
    "volume = pd.read_csv('przychody_volume.csv')\n",
    "volume = volume.rename(columns = {'index':'CALDAY'})\n",
    "volume.CALDAY = pd.to_datetime(volume.CALDAY)\n",
    "volume = volume.set_index('CALDAY')\n",
    "sales = pd.read_csv('przychody_sales.csv')\n",
    "sales = sales.rename(columns = {'index':'CALDAY'})\n",
    "sales.CALDAY = pd.to_datetime(sales.CALDAY)\n",
    "sales = sales.set_index('CALDAY')"
   ]
  },
  {
   "cell_type": "markdown",
   "id": "a0f93bcd",
   "metadata": {},
   "source": [
    "`Słownik do agregacji`"
   ]
  },
  {
   "cell_type": "code",
   "execution_count": 72,
   "id": "3f874016",
   "metadata": {},
   "outputs": [],
   "source": [
    "agg_dict = {...\n",
    "}"
   ]
  },
  {
   "cell_type": "markdown",
   "id": "5591ff6f",
   "metadata": {},
   "source": [
    "`Obsłużenie braków danych i pustych pól`"
   ]
  },
  {
   "cell_type": "code",
   "execution_count": 73,
   "id": "44c8f350",
   "metadata": {},
   "outputs": [],
   "source": [
    "for col in ['Wskaźnik_inflacji','TOTAL_SALES', 'TOTAL_VOLUME_SOLD']:\n",
    "    try:\n",
    "        X[col] = X[col].replace(0,np.nan).fillna(method='ffill').fillna(method='bfill') \n",
    "    except:\n",
    "        pass"
   ]
  },
  {
   "cell_type": "markdown",
   "id": "40170949",
   "metadata": {},
   "source": [
    "`Finalne połączenie i zapisanie do pliku`"
   ]
  },
  {
   "cell_type": "code",
   "execution_count": 76,
   "id": "23349dbc",
   "metadata": {},
   "outputs": [],
   "source": [
    "zbiór_X = []\n",
    "for sklep in X.STORE.unique():\n",
    "    x = X[X.STORE == sklep].groupby(pd.Grouper(freq = 'W')).agg(agg_dict)\n",
    "    do_poł = pd.merge(x, volume[volume.STORE == sklep]['TOTAL_VOLUME_SOLD'], left_index=True, right_index=True)\n",
    "    do_poł = pd.merge(do_poł, sales[sales.STORE == sklep]['TOTAL_SALES'], left_index=True, right_index=True)\n",
    "    zbiór_X.append(do_poł)\n",
    "zbiór_X = pd.concat(zbiór_X)"
   ]
  },
  {
   "cell_type": "code",
   "execution_count": 79,
   "id": "a9453055",
   "metadata": {},
   "outputs": [],
   "source": [
    "zbiór_X.to_csv('./DANE_PRZYSZLE.csv')"
   ]
  }
 ],
 "metadata": {
  "kernelspec": {
   "display_name": "Python 3 (ipykernel)",
   "language": "python",
   "name": "python3"
  },
  "language_info": {
   "codemirror_mode": {
    "name": "ipython",
    "version": 3
   },
   "file_extension": ".py",
   "mimetype": "text/x-python",
   "name": "python",
   "nbconvert_exporter": "python",
   "pygments_lexer": "ipython3",
   "version": "3.9.13"
  }
 },
 "nbformat": 4,
 "nbformat_minor": 5
}
