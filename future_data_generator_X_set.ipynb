{
 "cells": [
  {
   "cell_type": "markdown",
   "id": "b5ffde87",
   "metadata": {},
   "source": [
    "`Generowanie danych dla przyszłych wartości zmiennych objaśniających w modelu. Prognoza ma byś dokłądna kwartalnie, ale prognozować będziemy miesięcznie`"
   ]
  },
  {
   "cell_type": "markdown",
   "id": "de779ecd",
   "metadata": {},
   "source": [
    "### Biblioteki"
   ]
  },
  {
   "cell_type": "code",
   "execution_count": 1,
   "id": "a47e08cb",
   "metadata": {},
   "outputs": [],
   "source": [
    "# IMPORTOWANIE BIBLIOTEK\n",
    "\n",
    "from datetime import datetime\n",
    "import datetime as dt\n",
    "\n",
    "import math\n",
    "import numpy as np\n",
    "import os\n",
    "import pandas as pd\n",
    "\n",
    "# do otwarcia zip z url\n",
    "import requests\n",
    "from zipfile import ZipFile\n",
    "from io import BytesIO"
   ]
  },
  {
   "cell_type": "markdown",
   "id": "dbe46909",
   "metadata": {},
   "source": [
    "`Wczytanie kalendarza`"
   ]
  },
  {
   "cell_type": "code",
   "execution_count": 2,
   "id": "6019f465",
   "metadata": {},
   "outputs": [],
   "source": [
    "kalendarz = pd.read_excel('xxx.xlsx', sheet_name= '')\n",
    "kalendarz = kalendarz[('' > kalendarz.data) & (kalendarz.data > '')]"
   ]
  },
  {
   "cell_type": "markdown",
   "id": "bf2f7c17",
   "metadata": {},
   "source": [
    "`Informacje dla sklepów`"
   ]
  },
  {
   "cell_type": "code",
   "execution_count": 4,
   "id": "bcc15c96",
   "metadata": {},
   "outputs": [],
   "source": [
    "sklepy_informacje = pd.read_excel('', sheet_name= '')"
   ]
  },
  {
   "cell_type": "code",
   "execution_count": 5,
   "id": "06308ecc",
   "metadata": {},
   "outputs": [],
   "source": [
    "# Połączenie kalendarza dla każdego ze sklepów\n",
    "kalendarz['tmp'] = 1\n",
    "sklepy_informacje['tmp'] = 1\n",
    "X = pd.merge(sklepy_informacje, kalendarz, on=['tmp'])\n",
    "X = X.drop('tmp', axis=1)\n",
    "X = X.rename(columns = {'data':'CALDAY'})"
   ]
  },
  {
   "cell_type": "markdown",
   "id": "b72f77bf",
   "metadata": {},
   "source": [
    "`Dane makroekonomiczne`"
   ]
  },
  {
   "cell_type": "code",
   "execution_count": null,
   "id": "598d6ccd",
   "metadata": {},
   "outputs": [],
   "source": [
    "makroekonomiczne = pd.read_excel('dane_predykcje.xlsx', sheet_name= 'dane_makro').set_index('index').stack().reset_index().rename(columns={'level_1':'kwartał',0:'wartość'})\n",
    "makroekonomiczne = makroekonomiczne[~makroekonomiczne.kwartał.isin(['2022','2023','2024','2025'])]\n",
    "\n",
    "# Usunięcie niepotrzebnych spacji w wartościach\n",
    "makroekonomiczne = makroekonomiczne.apply(lambda x: x.str.strip() if x.dtype == \"object\" else x)\n",
    "\n",
    "# Zamiana tekstu na datę - kwartał\n",
    "makroekonomiczne['kwartał'] =  pd.to_datetime(makroekonomiczne['kwartał']).dt.to_period('Q')\n",
    "\n",
    "# Stworzenie ostatecznej tabelki \n",
    "makroekonomiczne = makroekonomiczne.pivot_table('wartość', 'kwartał','index').reset_index()"
   ]
  },
  {
   "cell_type": "code",
   "execution_count": 11,
   "id": "26fed3dc",
   "metadata": {},
   "outputs": [],
   "source": [
    "# stworzenie w danych kolumny z kwartałem\n",
    "X['kwartał'] = pd.PeriodIndex(X.CALDAY, freq='Q')\n",
    "\n",
    "# połączenie\n",
    "X = X.merge(makroekonomiczne, on='kwartał', how = 'left')"
   ]
  },
  {
   "cell_type": "code",
   "execution_count": 12,
   "id": "20c4f570",
   "metadata": {},
   "outputs": [],
   "source": [
    "# Lista do sterowania zmiennymi makroekonomicznycmi\n",
    "kolumny_makro = ['Wskaźnik_inflacji',\n",
    "       'Ceny energii (%, r/r)',\n",
    "       'Ceny żywności (%, r/r)',\n",
    "       'Deflator wartości dodanej za granicą (%, r/r)', 'Eksport (%, r/r)',\n",
    "       'Import (%, r/r)',\n",
    "       'Indeks cen surowców energetycznych (USD; 2011=1,00)',\n",
    "       'Indeks cen surowców rolnych (EUR; 2011=1,00)',\n",
    "       'Inflacja bazowa (CPI po wyłączeniu cen żywności i energii, %, r/r)',\n",
    "       'Jednostkowe koszty pracy (%, r/r)',\n",
    "       'Luka popytowa (% PKB potencjalnego)', 'NAWRU (%)',\n",
    "       'Nakłady brutto na środki trwałe (%, r/r)', 'PKB (%, r/r)',\n",
    "       'PKB za granicą (%, r/r)', 'Popyt krajowy (%, r/r)',\n",
    "       'Pracujący (%, r/r)', 'Produkt potencjalny (%, r/r)',\n",
    "       'Saldo rachunku bieżącego (% PKB)',\n",
    "       'Spożycie gospodarstw domowych (%, r/r)',# 'Spożycie publiczne (%, r/r)',\n",
    "       'Stopa aktywności zawodowej (%)', 'Stopa bezrobocia (%)',\n",
    "       'WIBOR 3M (%)', 'Wkład eksportu netto (pkt proc., r/r)',\n",
    "       'Wskaźnik cen konsumenta CPI (%, r/r)', 'Wydajność pracy (%, r/r)',\n",
    "       'Wynagrodzenia (%, r/r)']"
   ]
  },
  {
   "cell_type": "markdown",
   "id": "fa84d338",
   "metadata": {},
   "source": [
    "`Dane pogodowe`"
   ]
  },
  {
   "cell_type": "code",
   "execution_count": 13,
   "id": "4f03f6cc",
   "metadata": {},
   "outputs": [],
   "source": [
    "stacje = [100, 105, 115, 120, 125, 135, 155, 160, 185, 195, 200, 205, 210, 230, 235, 250, 270, 272, 280, 295, 300, 310, 330, 360, 375, 385, 399, 400, 415, 418, 424, 435, 455, 465, 469, 488, 495, 497, 500, 510, 520, 530, 540, 550, 560, 566, 570, 575, 580, 585, 595, 600, 625, 628, 650, 660, 670, 690]\n",
    "miesiące = ['01','02','03','04','05','06','07','08','09','10','11','12']\n",
    "start = 2018\n",
    "lata = []\n",
    "for i in range(5):\n",
    "    lata.append(start+i)\n",
    "    \n",
    "\n",
    "appended_data = []\n",
    "kolumny_pogoda = pd.read_excel('xxx.xlsx', sheet_name= '', header = None)\n",
    "kolumny_do_usunięcia = ['Status pomiaru NOS', 'Status pomiaru FWS', 'Status pomiaru TEMP', 'Status pomiaru CPW', 'Status pomiaru WLGS','Status pomiaru PPPS', 'Status pomiaru PPPM', 'Status pomiaru WODZ', 'Status pomiaru WONO']\n",
    "for i in stacje:\n",
    "    for ii in lata:\n",
    "        try:\n",
    "            r = requests.get(f\"https://danepubliczne.imgw.pl/data/dane_pomiarowo_obserwacyjne/dane_meteorologiczne/dobowe/synop/{str(ii)}/{str(ii)}_{str(i)}_s.zip\")\n",
    "            files = ZipFile(BytesIO(r.content))\n",
    "            pogoda = pd.read_csv(files.open(f\"s_d_t_{str(i)}_{str(ii)}.csv\"), header = None, encoding = 'windows-1250')\n",
    "            pogoda.columns = list(kolumny_pogoda.iloc[:,0])\n",
    "            pogoda.drop(kolumny_do_usunięcia, axis=1, inplace=True)\n",
    "            appended_data.append(pogoda)\n",
    "        except:\n",
    "            continue\n",
    "\n",
    "pogoda = pd.concat(appended_data)\n",
    "\n",
    "# Errata do danych\n",
    "'''\n",
    "Stacja Katowice-Muchowiec do 31.12.2018 to stacja Katowice\n",
    "Stacja Łóź-Lublinek do 31.12.2018 to stacja Łóź\n",
    "Stacja Poznań-Ławica do 31.12.2018 to stacja Poznań\n",
    "Stacja Warszawa-Okęcie do 31.12.2018 to stacja Warszawa\n",
    "Stacja Wrocław-Strachowice do 31.12.2018 to stacja Wrocław\n",
    "Stacja Elbląg-Milejewo do 31.03.2013 to stacja Elbląg w inej lokalizacji, system nie pozwala przechowywać podwójnej nazwy stacji dla tego samego kodu.\n",
    "Stacja Resko-Smólsko do 31.12.2014 to stacja Resko.\n",
    "Stacja Kołobrzeg-Dźwirzyno do 8.04.2018 to stacja Kołobrzeg, nastąpiła zmiana lokalizacji stacji z zachowaniem kodu.\n",
    "''' ;    \n",
    "\n",
    "pogoda['Nazwa stacji'] = pogoda['Nazwa stacji'].apply(lambda x: 'KOŁOBRZEG' if x == 'KOŁOBRZEG-DŹWIRZYNO' else \n",
    "                                                      ('WARSZAWA' if x == 'WARSZAWA-OKĘCIE' else\n",
    "                                                      ('RESKO' if x == 'RESKO-SMÓLSKO' else\n",
    "                                                      ('ELBLĄG' if x == 'ELBLĄG-MILEJEWO' else\n",
    "                                                      ('POZNAŃ' if x == 'POZNAŃ-ŁAWICA' else\n",
    "                                                      ('ŁÓDŹ' if x == 'ŁÓDŹ-LUBLINEK' else\n",
    "                                                      ('KATOWICE' if x == 'KATOWICE-MUCHOWIEC' else\n",
    "                                                      ('WROCŁAW' if x == 'WROCŁAW-STRACHOWICE' else x))))))))                                              \n",
    "                                                \n",
    "\n",
    "# Obróbka kolumn przed dołączeniem historycznych informacji o pogodzie\n",
    "pogoda['CALDAY'] = pd.to_datetime(dict(year=pogoda.Rok, month=pogoda.Miesiąc, day=pogoda.Dzień))\n",
    "pogoda = pogoda.rename(columns = {'Nazwa stacji':'STACJA_POGODOWA'})\n",
    "\n",
    "# Kolumny do połączenia\n",
    "pogoda_kolumny = ['Kod stacji', 'STACJA_POGODOWA', 'Średnie dobowe zachmurzenie ogólne [oktanty]', 'Średnia dobowa prędkość wiatru [m/s]',\n",
    " 'Średnia dobowa temperatura [°C]', 'Średnia dobowa wilgotność względna [%]', 'Średnia dobowe ciśnienie na poziomie stacji [hPa]', \n",
    " 'Średnie dobowe ciśnienie na pozimie morza [hPa]', 'Suma opadu dzień  [mm]', 'Suma opadu noc   [mm]', 'CALDAY']\n"
   ]
  },
  {
   "cell_type": "code",
   "execution_count": 14,
   "id": "62d8aa7c",
   "metadata": {},
   "outputs": [],
   "source": [
    "weather_cols_sums = ['Średnie dobowe zachmurzenie ogólne [oktanty]',          \n",
    "       'Suma opadu dzień  [mm]', 'Suma opadu noc   [mm]']              \n",
    "weather_cols_means = ['Średnia dobowa prędkość wiatru [m/s]',          \n",
    "       'Średnia dobowa temperatura [°C]',                              \n",
    "       'Średnia dobowa wilgotność względna [%]',                       \n",
    "       'Średnia dobowe ciśnienie na poziomie stacji [hPa]']             \n",
    "pogoda = pogoda.groupby(['STACJA_POGODOWA','Miesiąc']).aggregate({**{ col : 'mean' for col in weather_cols_means},**{ col : 'mean' for col in weather_cols_sums}}).reset_index()"
   ]
  },
  {
   "cell_type": "code",
   "execution_count": 15,
   "id": "3662a5fa",
   "metadata": {},
   "outputs": [],
   "source": [
    "X['Miesiąc'] = pd.PeriodIndex(X.CALDAY, freq='M').month\n",
    "X = X.merge(pogoda, on=['STACJA_POGODOWA','Miesiąc'], how = 'left')"
   ]
  },
  {
   "cell_type": "markdown",
   "id": "f4d6f9ed",
   "metadata": {},
   "source": [
    "`Dane inwentaryzacje`"
   ]
  },
  {
   "cell_type": "code",
   "execution_count": 17,
   "id": "0c80b51b",
   "metadata": {},
   "outputs": [],
   "source": [
    "inwentaryzacje = pd.read_excel('xxx.xlsx', sheet_name= '')\n",
    "inwentaryzacje['INVENTORY'] = 1"
   ]
  },
  {
   "cell_type": "markdown",
   "id": "c6c96852",
   "metadata": {},
   "source": [
    "`Zapisanie kroku`"
   ]
  },
  {
   "cell_type": "code",
   "execution_count": 25,
   "id": "70b83be4",
   "metadata": {},
   "outputs": [],
   "source": [
    "X = X.drop_duplicates()\n",
    "X.to_csv('Zbiór_X.csv', index = False)"
   ]
  }
 ],
 "metadata": {
  "kernelspec": {
   "display_name": "Python 3 (ipykernel)",
   "language": "python",
   "name": "python3"
  },
  "language_info": {
   "codemirror_mode": {
    "name": "ipython",
    "version": 3
   },
   "file_extension": ".py",
   "mimetype": "text/x-python",
   "name": "python",
   "nbconvert_exporter": "python",
   "pygments_lexer": "ipython3",
   "version": "3.9.13"
  }
 },
 "nbformat": 4,
 "nbformat_minor": 5
}
