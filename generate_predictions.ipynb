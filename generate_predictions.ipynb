{
 "cells": [
  {
   "cell_type": "markdown",
   "metadata": {},
   "source": [
    "#### Biblioteki"
   ]
  },
  {
   "cell_type": "code",
   "execution_count": 1,
   "metadata": {
    "pycharm": {
     "name": "#%%\n"
    }
   },
   "outputs": [],
   "source": [
    "from datetime import datetime\n",
    "import datetime as dt\n",
    "\n",
    "import glob\n",
    "\n",
    "import numpy as np\n",
    "\n",
    "import math\n",
    "\n",
    "\n",
    "import os\n",
    "\n",
    "import pandas as pd\n",
    "\n",
    "# Bibiloteki sktime\n",
    "import sktime\n",
    "from sktime.forecasting.arima import AutoARIMA\n",
    "from sktime.forecasting.base import ForecastingHorizon\n",
    "from sktime.forecasting.compose import make_reduction\n",
    "from sktime.forecasting.compose import TransformedTargetForecaster, EnsembleForecaster\n",
    "from sktime.forecasting.fbprophet import Prophet\n",
    "from sktime.forecasting.model_selection import (ForecastingRandomizedSearchCV, ForecastingGridSearchCV, SingleWindowSplitter)\n",
    "from sktime.forecasting.model_selection import temporal_train_test_split\n",
    "from sktime.forecasting.model_selection._split import temporal_train_test_split\n",
    "\n",
    "# metryki\n",
    "from sklearn.metrics import mean_squared_error\n",
    "from sktime.performance_metrics.forecasting import mean_absolute_percentage_error, mean_squared_percentage_error,MeanSquaredError\n",
    "from sktime.transformations.series.feature_selection import FeatureSelection\n",
    "from sktime.transformations.series.outlier_detection import HampelFilter\n",
    "from sktime.utils.plotting import plot_series\n",
    "from sklearn.ensemble import RandomForestRegressor\n",
    "import plotly.express as px\n",
    "import plotly.graph_objects as go\n",
    "\n",
    "from xgboost import XGBRegressor"
   ]
  },
  {
   "cell_type": "code",
   "execution_count": 2,
   "metadata": {
    "pycharm": {
     "name": "#%%\n"
    }
   },
   "outputs": [],
   "source": [
    "import pickle"
   ]
  },
  {
   "cell_type": "code",
   "execution_count": 3,
   "metadata": {
    "pycharm": {
     "name": "#%%\n"
    }
   },
   "outputs": [],
   "source": [
    "from utils import wykres, compute_metrics, convert_and_preprocess_daily_to_monthly, convert_weekly_to_daily, convert_weekly_to_daily_xgb, convert_weekly_to_monthly, convert_weekly_to_monthly_xgb, wczytaj_dane_oczyszczone, wczytaj_dane_oczyszczone_do_predykcji, get_most_important_cols, get_most_important_cols2, generate_confidence_intervals, wczytaj_dane_odstajace_do_predykcji, wczytaj_dane_inwentaryzacje_do_predykcji, wczytaj_dane_odstajace, wczytaj_dane_inwentaryzacje, wczytaj_dane_wszystkie, fh_predykcje"
   ]
  },
  {
   "cell_type": "markdown",
   "metadata": {},
   "source": [
    "#### Funkcje"
   ]
  },
  {
   "cell_type": "code",
   "execution_count": 4,
   "metadata": {},
   "outputs": [],
   "source": [
    "check = 'niestety'\n",
    "\n",
    "TEST_SIZE_DICT = {\n",
    "    \"oczyszczone\": 31,\n",
    "    \"odstajace\": 7,\n",
    "    \"inwentaryzacje\":7\n",
    "}\n",
    "\n",
    "START_DATE = '' \n",
    "END_DATE = ''\n",
    "\n",
    "model_config = {\n",
    "    \"oczyszczone\":\n",
    "        {\n",
    "            \"ARIMAX\":\n",
    "                {\n",
    "                    \"sp\": 4,\n",
    "                },\n",
    "            \"XGBoost\":\n",
    "                {\n",
    "                    \"window_lengths\": [4, 8, 12, 32],\n",
    "                    \"cv_window_length\": 52,\n",
    "                },\n",
    "            \"group_period\": 'W'\n",
    "        },\n",
    "    \"odstajace\":\n",
    "        {\n",
    "            \"ARIMAX\":\n",
    "                {\n",
    "                    \"sp\": 1,\n",
    "                },\n",
    "            \"XGBoost\":\n",
    "                {\n",
    "                    \"window_lengths\": [2, 4, 6, 12],\n",
    "                    \"cv_window_length\": 6,\n",
    "                },\n",
    "            \"group_period\": 'M'\n",
    "        },\n",
    "    \"inwentaryzacje\":\n",
    "        {\n",
    "            \"ARIMAX\":\n",
    "                {\n",
    "                    \"sp\": 1,\n",
    "                },\n",
    "            \"XGBoost\":\n",
    "                {\n",
    "                    \"window_lengths\": [2, 4, 6, 12],\n",
    "                    \"cv_window_length\": 6,\n",
    "                },\n",
    "            \"group_period\": 'M'\n",
    "\n",
    "        }\n",
    "}\n",
    "\n",
    "def get_data_reader(model_type, mode=\"train/test\"):\n",
    "    if mode == \"train/test\":\n",
    "        if model_type == \"oczyszczone\":\n",
    "            return wczytaj_dane_oczyszczone\n",
    "        if model_type == \"odstajace\":\n",
    "            return wczytaj_dane_odstajace\n",
    "        if model_type == \"inwentaryzacje\":\n",
    "            return wczytaj_dane_inwentaryzacje\n",
    "    elif mode == \"pred\":\n",
    "        if model_type == \"oczyszczone\":\n",
    "            return wczytaj_dane_oczyszczone_do_predykcji\n",
    "        if model_type == \"odstajace\":\n",
    "            return wczytaj_dane_odstajace_do_predykcji\n",
    "        if model_type == \"inwentaryzacje\":\n",
    "            return wczytaj_dane_inwentaryzacje_do_predykcji\n",
    "    else:\n",
    "        raise ValueError(f\"Mode {mode} not supported.\")\n",
    "        \n",
    "\n",
    "def get_pred_y_and_y_test_for_xgb():\n",
    "    read_data = get_data_reader(model_type=MODEL_TYPE, mode=\"train/test\")\n",
    "    y, X = read_data(start_date=START_DATE, end_date=END_DATE, store=STORE)\n",
    "    \n",
    "    if len(y) > 0:\n",
    "        y_train, y_test, X_train, X_test = temporal_train_test_split(y, X, test_size=TEST_SIZE_DICT[MODEL_TYPE])\n",
    "\n",
    "        fh = ForecastingHorizon(y_test.index, is_relative=False)\n",
    "\n",
    "        best_model_test = pickle.load(open(f'models/test/{STORE}_{MODEL_TYPE}_best_model.pkl', 'rb'))\n",
    "        selected_features_test = pickle.load(open(f'models/test/selected_features/{STORE}_{MODEL_TYPE}_features.pkl', 'rb'))\n",
    "\n",
    "        if kamil == 'niestety':\n",
    "            if type(best_model_test) == ForecastingRandomizedSearchCV:\n",
    "\n",
    "                X_test.index = X_test.index.to_period(model_config[MODEL_TYPE][\"group_period\"])\n",
    "                fh = ForecastingHorizon(X_test.index, is_relative=False)\n",
    "\n",
    "                y_pred_test = best_model_test.predict(X=X_test[selected_features_test], fh=fh).rename(columns={'yhat': \"VALUE\"})\n",
    "                y_pred_test.index = y_pred_test.index.to_timestamp(model_config[MODEL_TYPE][\"group_period\"])\n",
    "\n",
    "            else:\n",
    "                y_pred_test = best_model_test.predict(X=X_test[selected_features_test], fh=y_test.index) \\\n",
    "                                                    .rename(columns={'yhat': \"VALUE\"})\n",
    "        else:\n",
    "            y_pred_test = best_model_test.predict(X=X_test[selected_features_test],fh=y_test.index) \\\n",
    "                                                    .rename(columns={'yhat': \"VALUE\"})\n",
    "    return y_test, y_pred_test\n",
    "\n",
    "def _generate_confidence_intervals(preds, residuals, alpha = 0.1):\n",
    "    ci = np.quantile(residuals, 1 - alpha)\n",
    "\n",
    "    ci_interv = pd.DataFrame()\n",
    "    if ci >= 0:\n",
    "        ci_interv['upper'] = preds + ci\n",
    "        ci_interv['lower'] = preds - ci\n",
    "    else:\n",
    "        ci_interv['upper'] = preds - ci\n",
    "        ci_interv['lower'] = preds + ci\n",
    "\n",
    "    return ci_interv\n",
    "\n",
    "def generate_prediction_intervals(preds, fh, model = '', residuals=None , alpha = 0.1):\n",
    "    \n",
    "    if type(model) == AutoARIMA:\n",
    "        y_pred_intervals = model.predict_interval(fh= fh, X=eval(f'X_{MODEL_TYPE}_do_predykcji'))\n",
    "        y_pred_intervals.columns = ['lower','upper'] \n",
    "        #y_pred_intervals.columns = y_pred_intervals_arimax.columns.get_level_values(2)\n",
    "        \n",
    "    elif type(model) == Prophet:\n",
    "        y_pred_intervals = model.predict_interval(fh= fh, X=eval(f'X_{MODEL_TYPE}_do_predykcji'))\n",
    "        y_pred_intervals.columns = ['lower','upper']\n",
    "        \n",
    "    elif type(model) == ForecastingRandomizedSearchCV:\n",
    "        y_test, y_pred_test = get_pred_y_and_y_test_for_xgb()\n",
    "        residuals = y_test - y_pred_test\n",
    "        y_pred_intervals = _generate_confidence_intervals(preds = preds, residuals = residuals) \n",
    "    \n",
    "    return y_pred_intervals"
   ]
  },
  {
   "cell_type": "markdown",
   "metadata": {},
   "source": [
    "`Lista ze sklepami`"
   ]
  },
  {
   "cell_type": "code",
   "execution_count": 7,
   "metadata": {
    "pycharm": {
     "name": "#%%\n"
    }
   },
   "outputs": [],
   "source": [
    "MODEL_TYPES = [\"oczyszczone\", \"odstajace\", \"inwentaryzacje\"]\n",
    "ALL_STORES = [...]\n"
   ]
  },
  {
   "cell_type": "markdown",
   "metadata": {},
   "source": [
    "#### Zatrzymanie wyświetlania warningów"
   ]
  },
  {
   "cell_type": "code",
   "execution_count": 4,
   "metadata": {},
   "outputs": [],
   "source": [
    "import warnings\n",
    "warnings.simplefilter(action='ignore', category=FutureWarning)\n",
    "from sklearn.exceptions import DataConversionWarning\n",
    "warnings.filterwarnings(action='ignore', category=DataConversionWarning)"
   ]
  },
  {
   "cell_type": "markdown",
   "metadata": {},
   "source": [
    "#### Pozostałe funkcje"
   ]
  },
  {
   "cell_type": "code",
   "execution_count": 7,
   "metadata": {
    "pycharm": {
     "name": "#%%\n"
    }
   },
   "outputs": [],
   "source": [
    "def fh_predykcje(start = '', freq = 'M'):\n",
    "    if freq == 'M':\n",
    "        periods = _\n",
    "    elif freq == 'W':\n",
    "        periods = _\n",
    "    else:\n",
    "        pass\n",
    "    horyzont = ForecastingHorizon(pd.date_range(start=start, periods=periods, freq=freq), is_relative=False)\n",
    "    return horyzont\n",
    "\n",
    "def postprocess_pred(y_pred):\n",
    "    y_pred['VALUE'] = y_pred['VALUE'].apply(lambda x: min(x,0))\n",
    "    return y_pred"
   ]
  },
  {
   "cell_type": "markdown",
   "metadata": {
    "pycharm": {
     "name": "#%% md\n"
    }
   },
   "source": [
    "# Master petla"
   ]
  },
  {
   "cell_type": "code",
   "execution_count": null,
   "metadata": {},
   "outputs": [],
   "source": [
    "pd.options.mode.chained_assignment = None\n",
    "START_PREDICTION_DATE_DATE=''\n",
    "preds = []\n",
    "for STORE in ALL_STORES:\n",
    "    print(STORE)\n",
    "    ##### wczytywanie modeli ------------------------------\n",
    "\n",
    "    # oczyszczone\n",
    "    best_model_oczyszczone = pickle.load(open(f'models/pred/{STORE}_oczyszczone_best_model.pkl', 'rb'))\n",
    "    selected_features_oczyszczone = pickle.load(open(f'models/pred/selected_features/{STORE}_oczyszczone_features.pkl', 'rb'))\n",
    "    X_oczyszczone_do_predykcji = wczytaj_dane_oczyszczone_do_predykcji(store=STORE, start_date= START_PREDICTION_DATE_DATE)[selected_features_oczyszczone]\n",
    "\n",
    "    # odstajace\n",
    "    best_model_odstajace = pickle.load(open(f'models/pred/{STORE}_odstajace_best_model.pkl', 'rb'))\n",
    "    selected_features_odstajace = pickle.load(open(f'models/pred/selected_features/{STORE}_odstajace_features.pkl', 'rb'))\n",
    "    X_odstajace_do_predykcji = wczytaj_dane_odstajace_do_predykcji(store=STORE, start_date=START_PREDICTION_DATE_DATE)[selected_features_odstajace]\n",
    "\n",
    "    # inwentaryzacje\n",
    "    try:\n",
    "        best_model_inwentaryzacje = pickle.load(open(f'models/pred/{STORE}_inwentaryzacje_best_model.pkl', 'rb'))\n",
    "        selected_features_inwentaryzacje = pickle.load(open(f'models/pred/selected_features/{STORE}_inwentaryzacje_features.pkl', 'rb'))\n",
    "        X_inwentaryzacje_do_predykcji = wczytaj_dane_inwentaryzacje_do_predykcji(store=STORE, start_date= START_PREDICTION_DATE_DATE)[selected_features_inwentaryzacje]\n",
    "    except:\n",
    "        pass\n",
    "\n",
    "    ##### generowanie predykcji -----------------------------\n",
    "    # oczyszczone\n",
    "    \n",
    "    MODEL_TYPE = 'oczyszczone'\n",
    "    \n",
    "    # Część, którą musi dodać Kamil    \n",
    "    if type(best_model_oczyszczone) == ForecastingRandomizedSearchCV:\n",
    "\n",
    "        for i in [X_oczyszczone_do_predykcji]:\n",
    "            i.index = i.index.to_period('W')\n",
    "        fh = ForecastingHorizon(X_oczyszczone_do_predykcji.index, is_relative=False)\n",
    "        _y_oczyszczone_pred = best_model_oczyszczone.predict(X=X_oczyszczone_do_predykcji, fh=fh)\n",
    "        _y_oczyszczone_pred = _y_oczyszczone_pred.rename(columns={'yhat': \"VALUE\"})\n",
    "        _y_oczyszczone_pred.index = _y_oczyszczone_pred.index.to_timestamp('W')\n",
    "\n",
    "    else:\n",
    "        _y_oczyszczone_pred = best_model_oczyszczone.predict(X=X_oczyszczone_do_predykcji, fh=fh_predykcje(freq='W'))\n",
    "        _y_oczyszczone_pred = _y_oczyszczone_pred.rename(columns={'yhat': \"VALUE\"})\n",
    "    \n",
    "    \n",
    "    y_oczyszczone_pred_intervals = generate_prediction_intervals(_y_oczyszczone_pred, fh=fh_predykcje(freq='W'), model = best_model_oczyszczone)\n",
    "    y_oczyszczone_pred_intervals = convert_weekly_to_monthly(y_oczyszczone_pred_intervals)\n",
    "    \n",
    "    y_oczyszczone_pred = convert_weekly_to_monthly(_y_oczyszczone_pred)\n",
    "    \n",
    "    # odstajace\n",
    "    \n",
    "    MODEL_TYPE = 'odstajace'\n",
    "    \n",
    "    if type(best_model_odstajace) == ForecastingRandomizedSearchCV:\n",
    "\n",
    "        for i in [X_odstajace_do_predykcji]:\n",
    "            i.index = i.index.to_period('M')\n",
    "        fh = ForecastingHorizon(X_odstajace_do_predykcji.index, is_relative=False)\n",
    "        _y_odstajace_pred = best_model_odstajace.predict(X=X_odstajace_do_predykcji, fh=fh)\n",
    "        _y_odstajace_pred.index = _y_odstajace_pred.index.to_timestamp('M')\n",
    "\n",
    "    else:\n",
    "        _y_odstajace_pred = best_model_odstajace.predict(X=X_odstajace_do_predykcji, fh=fh_predykcje(freq='M'))\n",
    "\n",
    "    y_odstajace_pred = _y_odstajace_pred.rename(columns={'yhat': \"VALUE\"})\n",
    "    y_odstajace_pred_intervals = generate_prediction_intervals(y_odstajace_pred, fh=fh_predykcje(freq='M'), model = best_model_odstajace)\n",
    "\n",
    "    # inwentaryzacje\n",
    "    \n",
    "    MODEL_TYPE = 'inwentaryzacje'\n",
    "    \n",
    "    try:\n",
    "        if type(best_model_inwentaryzacje) == ForecastingRandomizedSearchCV:\n",
    "\n",
    "            for i in [X_inwentaryzacje_do_predykcji]:\n",
    "                i.index = i.index.to_period('M')\n",
    "            fh = ForecastingHorizon(X_inwentaryzacje_do_predykcji.index, is_relative=False)\n",
    "            _y_inwentaryzacje_pred = best_model_inwentaryzacje.predict(X=X_inwentaryzacje_do_predykcji, fh=fh)\n",
    "            _y_inwentaryzacje_pred.index = _y_inwentaryzacje_pred.index.to_timestamp('M')\n",
    "\n",
    "        else:\n",
    "            _y_inwentaryzacje_pred = best_model_inwentaryzacje.predict(X=X_inwentaryzacje_do_predykcji, fh=fh_predykcje(freq='M'))\n",
    "\n",
    "        y_inwentaryzacje_pred = _y_inwentaryzacje_pred.rename(columns={'yhat': \"VALUE\"})\n",
    "        y_inwentaryzacje_pred_intervals = generate_prediction_intervals(y_inwentaryzacje_pred, fh=fh_predykcje(freq='M'), model = best_model_inwentaryzacje)\n",
    "    except:\n",
    "        y_inwentaryzacje_pred = None\n",
    "\n",
    "    y_pred = postprocess_pred(y_oczyszczone_pred) + postprocess_pred(y_odstajace_pred) + postprocess_pred(y_inwentaryzacje_pred)\n",
    "    y_pred[\"lower\"] = y_oczyszczone_pred_intervals[\"lower\"] + y_odstajace_pred_intervals[\"lower\"] + y_inwentaryzacje_pred_intervals[\"lower\"]\n",
    "    y_pred[\"upper\"] = y_oczyszczone_pred_intervals[\"upper\"].apply(lambda x: min(x,0)) + \\\n",
    "            y_odstajace_pred_intervals[\"upper\"].apply(lambda x: min(x,0)) + \\\n",
    "            y_inwentaryzacje_pred_intervals[\"upper\"].apply(lambda x: min(x,0))\n",
    "    y_pred[\"STORE\"] = STORE\n",
    "\n",
    "    preds.append(y_pred)\n",
    "\n",
    "    print(f\"{STORE} done!\")"
   ]
  },
  {
   "cell_type": "markdown",
   "metadata": {},
   "source": [
    "`Tworzenie plików z predykcjami`"
   ]
  },
  {
   "cell_type": "code",
   "execution_count": null,
   "metadata": {},
   "outputs": [],
   "source": [
    "final_preds = pd.concat(preds)\n",
    "final_preds['VALUE'] = round(final_preds['VALUE'], 2)\n",
    "final_preds.index.name = 'DATE'\n",
    "final_preds.to_csv(\"final_preds.csv\")\n",
    "\n",
    "final_preds"
   ]
  },
  {
   "cell_type": "markdown",
   "metadata": {},
   "source": [
    "`Sprawdzenie czy nie ma braków wartości`"
   ]
  },
  {
   "cell_type": "code",
   "execution_count": null,
   "metadata": {},
   "outputs": [],
   "source": [
    "final_preds[final_preds.isna().any(axis=1)]"
   ]
  },
  {
   "cell_type": "markdown",
   "metadata": {},
   "source": [
    "----------------------------------------------------------------------------------"
   ]
  }
 ],
 "metadata": {
  "kernelspec": {
   "display_name": "Python 3 (ipykernel)",
   "language": "python",
   "name": "python3"
  },
  "language_info": {
   "codemirror_mode": {
    "name": "ipython",
    "version": 3
   },
   "file_extension": ".py",
   "mimetype": "text/x-python",
   "name": "python",
   "nbconvert_exporter": "python",
   "pygments_lexer": "ipython3",
   "version": "3.9.13"
  },
  "vscode": {
   "interpreter": {
    "hash": "ad2bdc8ecc057115af97d19610ffacc2b4e99fae6737bb82f5d7fb13d2f2c186"
   }
  }
 },
 "nbformat": 4,
 "nbformat_minor": 1
}
